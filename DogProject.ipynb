{
 "cells": [
  {
   "cell_type": "code",
   "execution_count": 124,
   "metadata": {},
   "outputs": [],
   "source": [
    "import pandas as pd\n",
    "import numpy as np\n",
    "from sklearn.model_selection import train_test_split, cross_val_score, cross_val_predict,LeaveOneOut,KFold\n",
    "from sklearn.metrics import mean_squared_error, r2_score\n",
    "from sklearn import model_selection\n",
    "from sklearn.tree import DecisionTreeClassifier, DecisionTreeRegressor\n",
    "from sklearn.neighbors import KNeighborsRegressor\n",
    "from sklearn.neighbors import KNeighborsClassifier\n",
    "from sklearn.linear_model import LinearRegression,Ridge,RidgeCV,Lasso,LassoCV,ElasticNet,ElasticNetCV,LogisticRegression,LassoLars,LassoLarsCV,LogisticRegressionCV\n",
    "from sklearn.ensemble import RandomForestRegressor, RandomForestClassifier\n",
    "import matplotlib.pyplot as plt\n",
    "from sklearn.decomposition import PCA\n",
    "import seaborn as sns"
   ]
  },
  {
   "cell_type": "markdown",
   "metadata": {},
   "source": [
    "Import Data: Each row represent a dog sample, the meth_matrix is shows the methylation level\n",
    "And start preprocessing"
   ]
  },
  {
   "cell_type": "code",
   "execution_count": 8,
   "metadata": {},
   "outputs": [
    {
     "data": {
      "text/html": [
       "<div>\n",
       "<style scoped>\n",
       "    .dataframe tbody tr th:only-of-type {\n",
       "        vertical-align: middle;\n",
       "    }\n",
       "\n",
       "    .dataframe tbody tr th {\n",
       "        vertical-align: top;\n",
       "    }\n",
       "\n",
       "    .dataframe thead th {\n",
       "        text-align: right;\n",
       "    }\n",
       "</style>\n",
       "<table border=\"1\" class=\"dataframe\">\n",
       "  <thead>\n",
       "    <tr style=\"text-align: right;\">\n",
       "      <th></th>\n",
       "      <th>0</th>\n",
       "      <th>2</th>\n",
       "      <th>4</th>\n",
       "      <th>5</th>\n",
       "      <th>6</th>\n",
       "      <th>7</th>\n",
       "      <th>8</th>\n",
       "      <th>9</th>\n",
       "      <th>10</th>\n",
       "      <th>14</th>\n",
       "      <th>...</th>\n",
       "      <th>5590</th>\n",
       "      <th>5591</th>\n",
       "      <th>5592</th>\n",
       "      <th>5595</th>\n",
       "      <th>5596</th>\n",
       "      <th>5600</th>\n",
       "      <th>5602</th>\n",
       "      <th>5605</th>\n",
       "      <th>5606</th>\n",
       "      <th>5607</th>\n",
       "    </tr>\n",
       "  </thead>\n",
       "  <tbody>\n",
       "    <tr>\n",
       "      <th>0</th>\n",
       "      <td>DogWolf00108_S84.CGmap</td>\n",
       "      <td>0.922865</td>\n",
       "      <td>0.075306</td>\n",
       "      <td>0.043478</td>\n",
       "      <td>0.126910</td>\n",
       "      <td>0.161389</td>\n",
       "      <td>0.096330</td>\n",
       "      <td>0.032172</td>\n",
       "      <td>0.051988</td>\n",
       "      <td>0.054773</td>\n",
       "      <td>...</td>\n",
       "      <td>0.027184</td>\n",
       "      <td>0.666667</td>\n",
       "      <td>0.785997</td>\n",
       "      <td>0.793282</td>\n",
       "      <td>0.826855</td>\n",
       "      <td>0.757333</td>\n",
       "      <td>0.844444</td>\n",
       "      <td>0.634021</td>\n",
       "      <td>0.789855</td>\n",
       "      <td>0.817610</td>\n",
       "    </tr>\n",
       "    <tr>\n",
       "      <th>1</th>\n",
       "      <td>DogWolf00109_S110.CGmap</td>\n",
       "      <td>0.930716</td>\n",
       "      <td>0.031250</td>\n",
       "      <td>0.083333</td>\n",
       "      <td>0.171190</td>\n",
       "      <td>0.184746</td>\n",
       "      <td>0.122419</td>\n",
       "      <td>0.018196</td>\n",
       "      <td>0.020033</td>\n",
       "      <td>0.030960</td>\n",
       "      <td>...</td>\n",
       "      <td>0.008547</td>\n",
       "      <td>0.603175</td>\n",
       "      <td>0.811429</td>\n",
       "      <td>0.794643</td>\n",
       "      <td>0.800000</td>\n",
       "      <td>0.673820</td>\n",
       "      <td>0.838951</td>\n",
       "      <td>0.626866</td>\n",
       "      <td>0.765625</td>\n",
       "      <td>0.890411</td>\n",
       "    </tr>\n",
       "    <tr>\n",
       "      <th>2</th>\n",
       "      <td>DogWolf00110_S105.CGmap</td>\n",
       "      <td>0.916096</td>\n",
       "      <td>0.073529</td>\n",
       "      <td>0.030075</td>\n",
       "      <td>0.153103</td>\n",
       "      <td>0.293263</td>\n",
       "      <td>0.174194</td>\n",
       "      <td>0.057586</td>\n",
       "      <td>0.046768</td>\n",
       "      <td>0.023041</td>\n",
       "      <td>...</td>\n",
       "      <td>0.040268</td>\n",
       "      <td>0.721154</td>\n",
       "      <td>0.807107</td>\n",
       "      <td>0.726804</td>\n",
       "      <td>0.756696</td>\n",
       "      <td>0.850187</td>\n",
       "      <td>0.798144</td>\n",
       "      <td>0.761905</td>\n",
       "      <td>0.773913</td>\n",
       "      <td>0.811927</td>\n",
       "    </tr>\n",
       "  </tbody>\n",
       "</table>\n",
       "<p>3 rows × 2421 columns</p>\n",
       "</div>"
      ],
      "text/plain": [
       "                         0         2         4         5         6         7  \\\n",
       "0   DogWolf00108_S84.CGmap  0.922865  0.075306  0.043478  0.126910  0.161389   \n",
       "1  DogWolf00109_S110.CGmap  0.930716  0.031250  0.083333  0.171190  0.184746   \n",
       "2  DogWolf00110_S105.CGmap  0.916096  0.073529  0.030075  0.153103  0.293263   \n",
       "\n",
       "          8         9        10        14  ...      5590      5591      5592  \\\n",
       "0  0.096330  0.032172  0.051988  0.054773  ...  0.027184  0.666667  0.785997   \n",
       "1  0.122419  0.018196  0.020033  0.030960  ...  0.008547  0.603175  0.811429   \n",
       "2  0.174194  0.057586  0.046768  0.023041  ...  0.040268  0.721154  0.807107   \n",
       "\n",
       "       5595      5596      5600      5602      5605      5606      5607  \n",
       "0  0.793282  0.826855  0.757333  0.844444  0.634021  0.789855  0.817610  \n",
       "1  0.794643  0.800000  0.673820  0.838951  0.626866  0.765625  0.890411  \n",
       "2  0.726804  0.756696  0.850187  0.798144  0.761905  0.773913  0.811927  \n",
       "\n",
       "[3 rows x 2421 columns]"
      ]
     },
     "metadata": {},
     "output_type": "display_data"
    },
    {
     "data": {
      "text/html": [
       "<div>\n",
       "<style scoped>\n",
       "    .dataframe tbody tr th:only-of-type {\n",
       "        vertical-align: middle;\n",
       "    }\n",
       "\n",
       "    .dataframe tbody tr th {\n",
       "        vertical-align: top;\n",
       "    }\n",
       "\n",
       "    .dataframe thead th {\n",
       "        text-align: right;\n",
       "    }\n",
       "</style>\n",
       "<table border=\"1\" class=\"dataframe\">\n",
       "  <thead>\n",
       "    <tr style=\"text-align: right;\">\n",
       "      <th></th>\n",
       "      <th>filename</th>\n",
       "      <th>sampleid</th>\n",
       "      <th>breed</th>\n",
       "      <th>age</th>\n",
       "      <th>sex</th>\n",
       "      <th>weight</th>\n",
       "      <th>spayed/neutered</th>\n",
       "      <th>DOB</th>\n",
       "      <th>Acquisition Date</th>\n",
       "      <th>Unnamed: 9</th>\n",
       "      <th>dogs details</th>\n",
       "    </tr>\n",
       "  </thead>\n",
       "  <tbody>\n",
       "    <tr>\n",
       "      <th>0</th>\n",
       "      <td>DogWolf00108_S84.CGmap</td>\n",
       "      <td>31019101710432</td>\n",
       "      <td>Miniature Schnauzer</td>\n",
       "      <td>NaN</td>\n",
       "      <td>FEMALE</td>\n",
       "      <td>16 lbs</td>\n",
       "      <td>Yes</td>\n",
       "      <td>NaT</td>\n",
       "      <td>NaT</td>\n",
       "      <td>NaN</td>\n",
       "      <td>NaN</td>\n",
       "    </tr>\n",
       "    <tr>\n",
       "      <th>1</th>\n",
       "      <td>DogWolf00109_S110.CGmap</td>\n",
       "      <td>31201050607833</td>\n",
       "      <td>English Springer Spaniel</td>\n",
       "      <td>6.8</td>\n",
       "      <td>FEMALE</td>\n",
       "      <td>35 lbs</td>\n",
       "      <td>Yes</td>\n",
       "      <td>NaT</td>\n",
       "      <td>NaT</td>\n",
       "      <td>NaN</td>\n",
       "      <td>NaN</td>\n",
       "    </tr>\n",
       "    <tr>\n",
       "      <th>2</th>\n",
       "      <td>DogWolf00110_S105.CGmap</td>\n",
       "      <td>31201050607826</td>\n",
       "      <td>English Springer Spaniel</td>\n",
       "      <td>12.9</td>\n",
       "      <td>FEMALE</td>\n",
       "      <td>45 lbs</td>\n",
       "      <td>Yes</td>\n",
       "      <td>NaT</td>\n",
       "      <td>NaT</td>\n",
       "      <td>NaN</td>\n",
       "      <td>NaN</td>\n",
       "    </tr>\n",
       "  </tbody>\n",
       "</table>\n",
       "</div>"
      ],
      "text/plain": [
       "                  filename        sampleid                     breed   age  \\\n",
       "0   DogWolf00108_S84.CGmap  31019101710432       Miniature Schnauzer   NaN   \n",
       "1  DogWolf00109_S110.CGmap  31201050607833  English Springer Spaniel   6.8   \n",
       "2  DogWolf00110_S105.CGmap  31201050607826  English Springer Spaniel  12.9   \n",
       "\n",
       "      sex  weight spayed/neutered DOB Acquisition Date  Unnamed: 9  \\\n",
       "0  FEMALE  16 lbs             Yes NaT              NaT         NaN   \n",
       "1  FEMALE  35 lbs             Yes NaT              NaT         NaN   \n",
       "2  FEMALE  45 lbs             Yes NaT              NaT         NaN   \n",
       "\n",
       "   dogs details  \n",
       "0           NaN  \n",
       "1           NaN  \n",
       "2           NaN  "
      ]
     },
     "metadata": {},
     "output_type": "display_data"
    }
   ],
   "source": [
    "meth_matrix=pd.read_csv('/Users/yuyanyan/Downloads/CanineMatnoNaN.csv')\n",
    "targets=pd.read_excel('/Users/yuyanyan/Desktop/dogproject/CGmapfiles.xlsx')\n",
    "display(meth_matrix.head(3)) # Features\n",
    "display(targets.head(3)) # Targets"
   ]
  },
  {
   "cell_type": "code",
   "execution_count": 11,
   "metadata": {},
   "outputs": [
    {
     "name": "stdout",
     "output_type": "stream",
     "text": [
      "<class 'pandas.core.frame.DataFrame'>\n",
      "RangeIndex: 217 entries, 0 to 216\n",
      "Data columns (total 11 columns):\n",
      " #   Column            Non-Null Count  Dtype         \n",
      "---  ------            --------------  -----         \n",
      " 0   filename          217 non-null    object        \n",
      " 1   sampleid          217 non-null    object        \n",
      " 2   breed             217 non-null    object        \n",
      " 3   age               216 non-null    float64       \n",
      " 4   sex               161 non-null    object        \n",
      " 5   weight            152 non-null    object        \n",
      " 6   spayed/neutered   149 non-null    object        \n",
      " 7   DOB               56 non-null     datetime64[ns]\n",
      " 8   Acquisition Date  56 non-null     datetime64[ns]\n",
      " 9   Unnamed: 9        0 non-null      float64       \n",
      " 10  dogs details      0 non-null      float64       \n",
      "dtypes: datetime64[ns](2), float64(3), object(6)\n",
      "memory usage: 18.8+ KB\n"
     ]
    },
    {
     "data": {
      "text/plain": [
       "None"
      ]
     },
     "metadata": {},
     "output_type": "display_data"
    }
   ],
   "source": [
    "display(targets.info())"
   ]
  },
  {
   "cell_type": "markdown",
   "metadata": {},
   "source": [
    "Interested in predicting age with methylation pattern"
   ]
  },
  {
   "cell_type": "code",
   "execution_count": 15,
   "metadata": {},
   "outputs": [
    {
     "data": {
      "text/html": [
       "<div>\n",
       "<style scoped>\n",
       "    .dataframe tbody tr th:only-of-type {\n",
       "        vertical-align: middle;\n",
       "    }\n",
       "\n",
       "    .dataframe tbody tr th {\n",
       "        vertical-align: top;\n",
       "    }\n",
       "\n",
       "    .dataframe thead th {\n",
       "        text-align: right;\n",
       "    }\n",
       "</style>\n",
       "<table border=\"1\" class=\"dataframe\">\n",
       "  <thead>\n",
       "    <tr style=\"text-align: right;\">\n",
       "      <th></th>\n",
       "      <th>filename</th>\n",
       "      <th>age</th>\n",
       "    </tr>\n",
       "  </thead>\n",
       "  <tbody>\n",
       "    <tr>\n",
       "      <th>0</th>\n",
       "      <td>DogWolf00108_S84.CGmap</td>\n",
       "      <td>NaN</td>\n",
       "    </tr>\n",
       "    <tr>\n",
       "      <th>1</th>\n",
       "      <td>DogWolf00109_S110.CGmap</td>\n",
       "      <td>6.8</td>\n",
       "    </tr>\n",
       "    <tr>\n",
       "      <th>2</th>\n",
       "      <td>DogWolf00110_S105.CGmap</td>\n",
       "      <td>12.9</td>\n",
       "    </tr>\n",
       "    <tr>\n",
       "      <th>3</th>\n",
       "      <td>DogWolf00111_S89.CGmap</td>\n",
       "      <td>5.6</td>\n",
       "    </tr>\n",
       "    <tr>\n",
       "      <th>4</th>\n",
       "      <td>DogWolf00112_S88.CGmap</td>\n",
       "      <td>1.1</td>\n",
       "    </tr>\n",
       "    <tr>\n",
       "      <th>...</th>\n",
       "      <td>...</td>\n",
       "      <td>...</td>\n",
       "    </tr>\n",
       "    <tr>\n",
       "      <th>212</th>\n",
       "      <td>PK9-31201050607830.CGmap</td>\n",
       "      <td>11.8</td>\n",
       "    </tr>\n",
       "    <tr>\n",
       "      <th>213</th>\n",
       "      <td>PK9-31201050607843.CGmap</td>\n",
       "      <td>1.0</td>\n",
       "    </tr>\n",
       "    <tr>\n",
       "      <th>214</th>\n",
       "      <td>PK9-31201050607844.CGmap</td>\n",
       "      <td>2.3</td>\n",
       "    </tr>\n",
       "    <tr>\n",
       "      <th>215</th>\n",
       "      <td>PK9-31301050607662.CGmap</td>\n",
       "      <td>1.7</td>\n",
       "    </tr>\n",
       "    <tr>\n",
       "      <th>216</th>\n",
       "      <td>PK9-32_UCLACore.CGmap</td>\n",
       "      <td>0.4</td>\n",
       "    </tr>\n",
       "  </tbody>\n",
       "</table>\n",
       "<p>217 rows × 2 columns</p>\n",
       "</div>"
      ],
      "text/plain": [
       "                     filename   age\n",
       "0      DogWolf00108_S84.CGmap   NaN\n",
       "1     DogWolf00109_S110.CGmap   6.8\n",
       "2     DogWolf00110_S105.CGmap  12.9\n",
       "3      DogWolf00111_S89.CGmap   5.6\n",
       "4      DogWolf00112_S88.CGmap   1.1\n",
       "..                        ...   ...\n",
       "212  PK9-31201050607830.CGmap  11.8\n",
       "213  PK9-31201050607843.CGmap   1.0\n",
       "214  PK9-31201050607844.CGmap   2.3\n",
       "215  PK9-31301050607662.CGmap   1.7\n",
       "216     PK9-32_UCLACore.CGmap   0.4\n",
       "\n",
       "[217 rows x 2 columns]"
      ]
     },
     "metadata": {},
     "output_type": "display_data"
    }
   ],
   "source": [
    "age=pd.DataFrame(data={'filename':targets['filename'],'age':targets['age']})\n",
    "display(age)"
   ]
  },
  {
   "cell_type": "markdown",
   "metadata": {},
   "source": [
    "See if theres' nan values"
   ]
  },
  {
   "cell_type": "code",
   "execution_count": 17,
   "metadata": {},
   "outputs": [
    {
     "data": {
      "text/plain": [
       "True"
      ]
     },
     "execution_count": 17,
     "metadata": {},
     "output_type": "execute_result"
    }
   ],
   "source": [
    "age['age'].isnull().values.any()"
   ]
  },
  {
   "cell_type": "code",
   "execution_count": 18,
   "metadata": {},
   "outputs": [
    {
     "data": {
      "text/plain": [
       "1"
      ]
     },
     "execution_count": 18,
     "metadata": {},
     "output_type": "execute_result"
    }
   ],
   "source": [
    "age['age'].isnull().sum()"
   ]
  },
  {
   "cell_type": "markdown",
   "metadata": {},
   "source": [
    "Match the rows of age to the methylation matrix"
   ]
  },
  {
   "cell_type": "code",
   "execution_count": 20,
   "metadata": {},
   "outputs": [],
   "source": [
    "select=[]\n",
    "for i in meth_matrix.iloc[:,0]:\n",
    "    for j in age['filename']:\n",
    "        if i==j:\n",
    "            select.append(i)\n",
    "count=0            \n",
    "for i in age['filename']:\n",
    "    if i not in select:\n",
    "        age.drop(count,axis=0,inplace=True)\n",
    "    count+=1\n",
    "    \n",
    "meth_matrix=meth_matrix.sort_values(by='0')\n",
    "age=age.sort_values(by='filename')"
   ]
  },
  {
   "cell_type": "markdown",
   "metadata": {},
   "source": [
    "Remove sample with nan value"
   ]
  },
  {
   "cell_type": "code",
   "execution_count": 33,
   "metadata": {},
   "outputs": [],
   "source": [
    "age['age']=age['age'].astype(str)\n",
    "drop=[]\n",
    "count=0\n",
    "for i in age['age']:\n",
    "    if i=='nan':\n",
    "        drop.append(age.iloc[count,0])\n",
    "    count+=1\n",
    "for i in meth_matrix['0']:\n",
    "    if i in drop:\n",
    "        indexNames = meth_matrix[ meth_matrix['0'] == i ].index\n",
    "        meth_matrix.drop(indexNames,axis=0,inplace=True)\n",
    "        \n",
    "for i in age['filename']:\n",
    "    if i in drop:\n",
    "        indexNames = age[ age['filename'] == i ].index\n",
    "        age.drop(indexNames,axis=0,inplace=True)"
   ]
  },
  {
   "cell_type": "code",
   "execution_count": 59,
   "metadata": {
    "scrolled": true
   },
   "outputs": [
    {
     "data": {
      "text/plain": [
       "((206, 2421), (206, 2))"
      ]
     },
     "execution_count": 59,
     "metadata": {},
     "output_type": "execute_result"
    }
   ],
   "source": [
    "age['age']=age['age'].astype('float64')\n",
    "meth_matrix.shape,age.shape"
   ]
  },
  {
   "cell_type": "markdown",
   "metadata": {},
   "source": [
    "Information about the age"
   ]
  },
  {
   "cell_type": "code",
   "execution_count": 79,
   "metadata": {},
   "outputs": [
    {
     "data": {
      "image/png": "[encoded data removed]",
      "text/plain": [
       "<Figure size 432x288 with 1 Axes>"
      ]
     },
     "metadata": {
      "needs_background": "light"
     },
     "output_type": "display_data"
    }
   ],
   "source": [
    "sorted_age=age.copy()\n",
    "sorted_age.sort_values(by='age',inplace=True)\n",
    "sorted_age.plot(x='filename', y='age', kind='bar',title=\"Dog Age Distribution\", ylabel=\"Age\", xlabel=\"Sample\")\n",
    "ax=plt.gca()\n",
    "ax.axes.xaxis.set_ticks([])\n",
    "plt.show()"
   ]
  },
  {
   "cell_type": "code",
   "execution_count": 77,
   "metadata": {
    "scrolled": true
   },
   "outputs": [
    {
     "name": "stdout",
     "output_type": "stream",
     "text": [
      "Lowest age sample is DogWolf27915_S67.CGmap , 0.0 years old ; Highest age sample is DogWolf00120_S102.CGmap, 16.5 years old\n",
      "\n",
      "Average is 5.4 years old\n"
     ]
    }
   ],
   "source": [
    "lowest = sorted_age.iloc[0,:]['age']\n",
    "lowest_filename = sorted_age.iloc[0,:]['filename']\n",
    "\n",
    "highest = sorted_age.iloc[-1,:]['age']\n",
    "highest_filename = sorted_age.iloc[-1,:]['filename']\n",
    "\n",
    "average_age= sorted_age[\"age\"].mean()\n",
    "\n",
    "print(\"Lowest age sample is {} , {} years old ; Highest age sample is {}, {} years old\".format(lowest_filename, lowest, highest_filename, highest))\n",
    "print(\"\\nAverage is {} years old\".format(round(average_age,2)))"
   ]
  },
  {
   "cell_type": "markdown",
   "metadata": {},
   "source": [
    "## Remove outlier step, function from https://colinpfarrell.com/tag-ec-tutorial/ , with modification"
   ]
  },
  {
   "cell_type": "code",
   "execution_count": 80,
   "metadata": {},
   "outputs": [],
   "source": [
    "def new_plot_outliers(originalDataframe, PhenotypeMat):#exclude outliers from data, first input is MethylMatrix, second is AgeMatrix\n",
    "    dogMatrixarr = np.array(originalDataframe.drop(['0'], axis=1))\n",
    "    dogMatrixarr = dogMatrixarr.astype('float64')\n",
    "    \n",
    "    Mat_labels = originalDataframe['0']\n",
    "    Phenotypesarr = PhenotypeMat['age']\n",
    "    \n",
    "    qc_pca=PCA(n_components=4, whiten=False)\n",
    "    qc_pca_vals = qc_pca.fit_transform(dogMatrixarr)\n",
    "    variance_explained= qc_pca.explained_variance_ratio_\n",
    "    pc1 = qc_pca_vals[:,0]\n",
    "    pc2 = qc_pca_vals[:,1]\n",
    "        \n",
    "    non_outlier_features=[]\n",
    "    non_outlier_targets=[]\n",
    "    fig, ax = plt.subplots(figsize=(12,12))\n",
    "    ax.scatter(pc1, pc2,)\n",
    "    ax.set_title('Methylation Matrix PCA')\n",
    "    ax.set_xlabel(f'PC1 Variance Explained = {variance_explained[0]:0.3f}')\n",
    "    ax.set_ylabel(f'PC2 Variance Explained = {variance_explained[1]:0.3f}')\n",
    "    for x, y, label, targets in zip(pc1, pc2, Mat_labels, Phenotypesarr):\n",
    "        ax.text(x=x, y=y, s=None)\n",
    "        if x < 5:\n",
    "            non_outlier_features.append(label)\n",
    "            non_outlier_targets.append(targets)\n",
    "    plt.show()\n",
    "    \n",
    "    index = originalDataframe.index\n",
    "    counter = 0\n",
    "    nonmatch = []\n",
    "    for i in originalDataframe['0']:\n",
    "        match = False\n",
    "        for j in non_outlier_features:\n",
    "            if i==j:\n",
    "                match = True\n",
    "                break\n",
    "        if match == False:\n",
    "            nonmatch.append(index[counter])\n",
    "        counter+=1\n",
    "    \n",
    "    originalDataframeP = originalDataframe.drop(nonmatch)\n",
    "    non_outlier_features = np.array(originalDataframeP.drop(['0'], axis=1))\n",
    "    non_outlier_features = non_outlier_features.astype('float64')\n",
    "    non_outlier_targets = np.array(non_outlier_targets)\n",
    "    non_outlier_targets=non_outlier_targets.astype('float64')\n",
    "    \n",
    "    return (non_outlier_features, non_outlier_targets)"
   ]
  },
  {
   "cell_type": "code",
   "execution_count": 83,
   "metadata": {},
   "outputs": [
    {
     "data": {
      "image/png": "[encoded data removed]",
      "text/plain": [
       "<Figure size 864x864 with 1 Axes>"
      ]
     },
     "metadata": {
      "needs_background": "light"
     },
     "output_type": "display_data"
    }
   ],
   "source": [
    "non_outlier_feature, non_outlier_age=new_plot_outliers(meth_matrix,age)"
   ]
  },
  {
   "cell_type": "code",
   "execution_count": 84,
   "metadata": {
    "scrolled": true
   },
   "outputs": [
    {
     "name": "stdout",
     "output_type": "stream",
     "text": [
      "(192, 2420)\n",
      "(192,)\n"
     ]
    }
   ],
   "source": [
    "print(non_outlier_feature.shape)\n",
    "print(non_outlier_age.shape)"
   ]
  },
  {
   "cell_type": "markdown",
   "metadata": {},
   "source": [
    "Model"
   ]
  },
  {
   "cell_type": "markdown",
   "metadata": {},
   "source": [
    "## Regression Models"
   ]
  },
  {
   "cell_type": "code",
   "execution_count": 93,
   "metadata": {},
   "outputs": [
    {
     "name": "stderr",
     "output_type": "stream",
     "text": [
      "/opt/anaconda3/lib/python3.8/site-packages/sklearn/linear_model/_least_angle.py:571: ConvergenceWarning: Regressors in active set degenerate. Dropping a regressor, after 89 iterations, i.e. alpha=7.478e-03, with an active set of 73 regressors, and the smallest cholesky pivot element being 1.490e-08. Reduce max_iter or increase eps parameters.\n",
      "  warnings.warn('Regressors in active set degenerate. '\n",
      "/opt/anaconda3/lib/python3.8/site-packages/sklearn/linear_model/_coordinate_descent.py:529: ConvergenceWarning: Objective did not converge. You might want to increase the number of iterations. Duality gap: 7.72915761258529, tolerance: 0.28538434377852867\n",
      "  model = cd_fast.enet_coordinate_descent(\n"
     ]
    }
   ],
   "source": [
    "lasso_cv=LassoCV(cv=10, n_jobs=-1).fit(non_outlier_feature, non_outlier_age)\n",
    "ridge_cv=RidgeCV(scoring = 'neg_mean_absolute_error').fit(non_outlier_feature, non_outlier_age)\n",
    "Llars_cv=LassoLarsCV(cv = 10, n_jobs=-1).fit(non_outlier_feature, non_outlier_age)\n",
    "elasticnet_cv=ElasticNetCV(cv=10,n_jobs=-1).fit(non_outlier_feature, non_outlier_age)"
   ]
  },
  {
   "cell_type": "code",
   "execution_count": 118,
   "metadata": {},
   "outputs": [],
   "source": [
    "models=[]\n",
    "models.append((Lasso,lasso_cv))\n",
    "models.append((Ridge,ridge_cv))\n",
    "models.append((LassoLars,Llars_cv))\n",
    "models.append((ElasticNet,elasticnet_cv))"
   ]
  },
  {
   "cell_type": "code",
   "execution_count": 107,
   "metadata": {
    "scrolled": true
   },
   "outputs": [
    {
     "name": "stdout",
     "output_type": "stream",
     "text": [
      "LassoCV: \n",
      "----------\n",
      "MAE is 1.349 with a standard deviation of 1.190.\n",
      "Correlation coefficient is 0.885\n",
      "------------------------------\n",
      "RidgeCV: \n",
      "----------\n",
      "MAE is 1.236 with a standard deviation of 1.106.\n",
      "Correlation coefficient is 0.904\n",
      "------------------------------\n",
      "LassoLarsCV: \n",
      "----------\n",
      "MAE is 1.126 with a standard deviation of 0.991.\n",
      "Correlation coefficient is 0.921\n",
      "------------------------------\n",
      "ElasticNetCV: \n",
      "----------\n",
      "MAE is 1.247 with a standard deviation of 1.093.\n",
      "Correlation coefficient is 0.904\n",
      "------------------------------\n"
     ]
    }
   ],
   "source": [
    "for name, model in models:\n",
    "    model_name = model.__class__.__name__\n",
    "    m_alpha=model.alpha_\n",
    "    score=cross_val_score(name(alpha=m_alpha), non_outlier_feature, non_outlier_age, scoring='neg_mean_absolute_error', cv = LeaveOneOut(), n_jobs=-1 )\n",
    "    score=np.absolute(score)\n",
    "    mean_absolute_error = np.mean(score)\n",
    "\n",
    "    #prediction\n",
    "    predictions = cross_val_predict(name(alpha =m_alpha), non_outlier_feature, non_outlier_age, cv = LeaveOneOut(), n_jobs=-1)\n",
    "    correlation_coef = np.corrcoef(predictions, non_outlier_age)[0,1]\n",
    "    print(model_name + \": \")\n",
    "    print(\"-\" * 10)\n",
    "    print('MAE is %.3f with a standard deviation of %.3f.' % (mean_absolute_error, np.std(score)))\n",
    "    print('Correlation coefficient is %.3f' % (correlation_coef))\n",
    "    print(\"-\" * 30)"
   ]
  },
  {
   "cell_type": "markdown",
   "metadata": {},
   "source": [
    "## Comparison"
   ]
  },
  {
   "cell_type": "code",
   "execution_count": 142,
   "metadata": {
    "scrolled": false
   },
   "outputs": [
    {
     "data": {
      "image/png": "[encoded data removed]",
      "text/plain": [
       "<Figure size 432x288 with 1 Axes>"
      ]
     },
     "metadata": {
      "needs_background": "light"
     },
     "output_type": "display_data"
    },
    {
     "data": {
      "image/png": "[encoded data removed]",
      "text/plain": [
       "<Figure size 360x288 with 1 Axes>"
      ]
     },
     "metadata": {
      "needs_background": "light"
     },
     "output_type": "display_data"
    }
   ],
   "source": [
    "results=[]\n",
    "names=[]\n",
    "comparison = pd.DataFrame(columns=[\"Models\",\"r2_cv\"])\n",
    "\n",
    "for name, model in models:\n",
    "    model_name = model.__class__.__name__\n",
    "    m_alpha=model.alpha_\n",
    "    score=cross_val_score(name(alpha=m_alpha), non_outlier_feature, non_outlier_age, scoring='r2', cv =10,n_jobs=-1)\n",
    "    results.append(score)\n",
    "    names.append(model_name)\n",
    "    r2_cv=score.mean()\n",
    "    r2cv_result = pd.DataFrame([[model_name,r2_cv*100]],columns=[\"Models\",\"r2_cv\"])\n",
    "    comparison=comparison.append(r2cv_result)\n",
    "    \n",
    "#Comparison1\n",
    "fig = plt.figure()\n",
    "fig.suptitle('Regression Model Comparison')\n",
    "ax = fig.add_subplot(111)\n",
    "plt.boxplot(results)\n",
    "plt.ylim(0.4,1)\n",
    "ax.set_xticklabels(names)\n",
    "plt.show()\n",
    "\n",
    "#Comparison2\n",
    "figure = plt.figure(figsize=(5,4))   \n",
    "sns.barplot(x=\"r2_cv\",y=\"Models\",data=comparison,color=\"k\")\n",
    "plt.xlabel(\"R2_CV\")\n",
    "plt.ylabel(\"MODELS\")\n",
    "plt.xlim(-50,100)\n",
    "plt.title(\"MODEL ACCURACY COMPARISON\")\n",
    "plt.show()"
   ]
  },
  {
   "cell_type": "markdown",
   "metadata": {},
   "source": [
    "Ridge and LassoLars performs well"
   ]
  },
  {
   "cell_type": "markdown",
   "metadata": {},
   "source": [
    "## Plot regression for Ridge and LassoLars, function from https://colinpfarrell.com/tag-ec-tutorial/ , with modification"
   ]
  },
  {
   "cell_type": "code",
   "execution_count": 168,
   "metadata": {},
   "outputs": [],
   "source": [
    "def plot_model(name,model,feature,target):\n",
    "    if(model==RidgeCV):\n",
    "        cv=model(scoring='neg_mean_absolute_error')\n",
    "    else:\n",
    "        cv=model(cv=10, n_jobs=-1)\n",
    "    fitting=cv.fit(feature, target)\n",
    "    m_alpha = fitting.alpha_\n",
    "    score= cross_val_score(name(alpha=m_alpha), feature, target, scoring='neg_mean_absolute_error', cv = LeaveOneOut(), n_jobs=-1 )\n",
    "    m_score = np.absolute(score)\n",
    "    mean_absolute_error = np.mean(m_score)\n",
    "    predictions = cross_val_predict(name(alpha = m_alpha), feature, target, cv = LeaveOneOut(), n_jobs=-1)\n",
    "    correlation_coef = np.corrcoef(predictions, target)[0,1]\n",
    "    \n",
    "    fig, ax = plt.subplots(figsize=(12,12))\n",
    "\n",
    "    ax.scatter(predictions, target, c=sns.color_palette(\"Paired\")[3])\n",
    "    ax.plot([np.asarray(target).min(), np.asarray(target).max()],\n",
    "    [np.asarray(target).min(), np.asarray(target).max()], 'k--', lw=2)\n",
    "    ax.set_xlabel('Predicted Age (years)')\n",
    "    ax.set_ylabel('Actual Age (years)')\n",
    "    model_name = name.__name__\n",
    "    ax.set_title('Cross Validation for {0} Regression Model'.format(model_name))\n",
    "    ax.text(0.01, .98, f'Correlation Coefficient = {correlation_coef:0.2f}',  transform=ax.transAxes)\n",
    "    ax.text(0.01, .96, f'MAE = {mean_absolute_error:0.2f} (years)',  transform=ax.transAxes)\n",
    "    ax.text(0.01, .94, f'Alpha = {m_alpha:0.2f}',  transform=ax.transAxes)\n",
    "\n",
    "    plt.show()"
   ]
  },
  {
   "cell_type": "code",
   "execution_count": 171,
   "metadata": {},
   "outputs": [
    {
     "name": "stderr",
     "output_type": "stream",
     "text": [
      "*c* argument looks like a single numeric RGB or RGBA sequence, which should be avoided as value-mapping will have precedence in case its length matches with *x* & *y*.  Please use the *color* keyword-argument or provide a 2-D array with a single row if you intend to specify the same RGB or RGBA value for all points.\n"
     ]
    },
    {
     "data": {
      "image/png": "[encoded data removed]",
      "text/plain": [
       "<Figure size 864x864 with 1 Axes>"
      ]
     },
     "metadata": {
      "needs_background": "light"
     },
     "output_type": "display_data"
    },
    {
     "name": "stderr",
     "output_type": "stream",
     "text": [
      "/opt/anaconda3/lib/python3.8/site-packages/sklearn/linear_model/_least_angle.py:571: ConvergenceWarning: Regressors in active set degenerate. Dropping a regressor, after 89 iterations, i.e. alpha=7.478e-03, with an active set of 73 regressors, and the smallest cholesky pivot element being 1.490e-08. Reduce max_iter or increase eps parameters.\n",
      "  warnings.warn('Regressors in active set degenerate. '\n",
      "*c* argument looks like a single numeric RGB or RGBA sequence, which should be avoided as value-mapping will have precedence in case its length matches with *x* & *y*.  Please use the *color* keyword-argument or provide a 2-D array with a single row if you intend to specify the same RGB or RGBA value for all points.\n"
     ]
    },
    {
     "data": {
      "image/png": "[encoded data removed]",
      "text/plain": [
       "<Figure size 864x864 with 1 Axes>"
      ]
     },
     "metadata": {
      "needs_background": "light"
     },
     "output_type": "display_data"
    }
   ],
   "source": [
    "plot_model(Ridge,RidgeCV,non_outlier_feature,non_outlier_age)\n",
    "plot_model(LassoLars,LassoLarsCV,non_outlier_feature,non_outlier_age)"
   ]
  }
 ],
 "metadata": {
  "kernelspec": {
   "display_name": "Python 3",
   "language": "python",
   "name": "python3"
  },
  "language_info": {
   "codemirror_mode": {
    "name": "ipython",
    "version": 3
   },
   "file_extension": ".py",
   "mimetype": "text/x-python",
   "name": "python",
   "nbconvert_exporter": "python",
   "pygments_lexer": "ipython3",
   "version": "3.8.5"
  }
 },
 "nbformat": 4,
 "nbformat_minor": 4
}
